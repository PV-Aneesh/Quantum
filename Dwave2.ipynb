{
 "cells": [
  {
   "cell_type": "code",
   "execution_count": null,
   "metadata": {},
   "outputs": [],
   "source": [
    "import dwave\n",
    "import dwave.cloud\n",
    "from dimod.reference.samplers import ExactSolver\n",
    "import dwave_networkx as dnx\n",
    "import networkx as nx\n",
    "from dwave.system import DWaveSampler, EmbeddingComposite\n",
    "\n",
    "sampler2 = EmbeddingComposite(DWaveSampler(\n",
    "    endpoint='https://cloud.dwavesys.com/sapi',\n",
    "    token='DEV-d9500e99062cdd39d17bc2f4a0993eb1cae4e053', \n",
    "    solver='DW_2000Q_5'))\n",
    "sampler = ExactSolver()\n",
    "s5 = nx.star_graph(4)\n",
    "print(dnx.min_vertex_cover(s5, sampler))\n",
    "print(dnx.min_vertex_cover(s5, sampler2))\n",
    "print(s5)"
   ]
  }
 ],
 "metadata": {
  "kernelspec": {
   "display_name": "Python 3",
   "language": "python",
   "name": "python3"
  },
  "language_info": {
   "codemirror_mode": {
    "name": "ipython",
    "version": 3
   },
   "file_extension": ".py",
   "mimetype": "text/x-python",
   "name": "python",
   "nbconvert_exporter": "python",
   "pygments_lexer": "ipython3",
   "version": "3.6.5"
  }
 },
 "nbformat": 4,
 "nbformat_minor": 4
}
