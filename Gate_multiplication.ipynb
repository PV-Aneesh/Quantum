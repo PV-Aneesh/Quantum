{
 "cells": [
  {
   "cell_type": "code",
   "execution_count": 1,
   "id": "aa1ae42d",
   "metadata": {},
   "outputs": [],
   "source": [
    "import sys\n",
    "import numpy as np\n",
    "import scipy.sparse as sp\n",
    "import networkx as nx\n",
    "import matplotlib.pyplot as plt\n",
    "from qci_client import QciClient, JobStatus\n",
    "import os\n",
    "import pkg_resources\n",
    "\n",
    "import dimod\n",
    "import pandas as pd\n",
    "from itertools import permutations \n",
    "import operator\n",
    "from operator import itemgetter\n",
    "from dimod.reference.samplers import ExactSolver\n",
    "from minorminer import find_embedding"
   ]
  },
  {
   "cell_type": "code",
   "execution_count": 10,
   "id": "43c1d42b",
   "metadata": {
    "scrolled": true
   },
   "outputs": [
    {
     "name": "stdout",
     "output_type": "stream",
     "text": [
      "[[1]\n",
      " [1]\n",
      " [1]\n",
      " [1]]\n",
      "[matrix([[1],\n",
      "        [0],\n",
      "        [0],\n",
      "        [0]]), matrix([[0],\n",
      "        [1],\n",
      "        [0],\n",
      "        [0]]), matrix([[0],\n",
      "        [0],\n",
      "        [1],\n",
      "        [0]]), matrix([[0],\n",
      "        [0],\n",
      "        [0],\n",
      "        [1]])]\n",
      "[[ 0.70710678]\n",
      " [-0.70710678]]\n"
     ]
    }
   ],
   "source": [
    "I = np.matrix([[1,0],\n",
    "               [0,1]])\n",
    "\n",
    "\n",
    "H = 1/(np.sqrt(2))*np.matrix([[1,1],\n",
    "               [1,-1]]) \n",
    "\n",
    "X = np.matrix([[0,1],\n",
    "               [1,0]])\n",
    "\n",
    "Z = np.matrix([[1,0],\n",
    "               [0,-1]])\n",
    "\n",
    "CX =   np.matrix([[1,0,0,0],\n",
    "                  [0,1,0,0],\n",
    "                  [0,0,0,1],\n",
    "                  [0,0,1,0]])\n",
    "\n",
    "CZ =   np.matrix([[1,0,0,0],\n",
    "                  [0,1,0,0],\n",
    "                  [0,0,1,0],\n",
    "                  [0,0,0,-1]])\n",
    "\n",
    "psi1_star = np.matrix([1,0])\n",
    "psi2_star = np.matrix([0,1])\n",
    "\n",
    "psi1 = psi1_star.transpose()\n",
    "psi2 = psi2_star.transpose()\n",
    "\n",
    "\n",
    "def Kronecker_product(A,B):\n",
    "    kronecker_product = np.kron(A, B)\n",
    "    return(kronecker_product)\n",
    "\n",
    "\n",
    "def Compute_basis(A, B):\n",
    "    phi1 = Kronecker_product(A, A)\n",
    "    phi2 = Kronecker_product(A, B)\n",
    "    phi3 = Kronecker_product(B, A)\n",
    "    phi4 = Kronecker_product(B, B)\n",
    "    Basis_States = [phi1, phi2, phi3, phi4]\n",
    "    return Basis_States\n",
    "\n",
    "def Sum_Basis(A, B):\n",
    "    sumbasis = np.matrix(np.zeros(len(Kronecker_product(A, B)), dtype = int)).transpose()\n",
    "    for i in Compute_basis(A, B):\n",
    "        sumbasis = sumbasis + i \n",
    "    return sumbasis\n",
    "\n",
    "def Superposition(A):\n",
    "    superposition = H*A\n",
    "    return superposition\n",
    "    \n",
    "    \n",
    "    \n",
    "\n",
    "    \n",
    "    \n",
    "print(Sum_Basis(psi1, psi2))\n",
    "print(Compute_basis(psi1, psi2))\n",
    "print(Superposition(psi2))\n"
   ]
  },
  {
   "cell_type": "code",
   "execution_count": null,
   "id": "f833d44e",
   "metadata": {},
   "outputs": [],
   "source": []
  },
  {
   "cell_type": "code",
   "execution_count": null,
   "id": "fdf111f2",
   "metadata": {},
   "outputs": [],
   "source": []
  },
  {
   "cell_type": "code",
   "execution_count": null,
   "id": "a6b7fa91",
   "metadata": {},
   "outputs": [],
   "source": []
  }
 ],
 "metadata": {
  "kernelspec": {
   "display_name": "Python 3 (ipykernel)",
   "language": "python",
   "name": "python3"
  },
  "language_info": {
   "codemirror_mode": {
    "name": "ipython",
    "version": 3
   },
   "file_extension": ".py",
   "mimetype": "text/x-python",
   "name": "python",
   "nbconvert_exporter": "python",
   "pygments_lexer": "ipython3",
   "version": "3.10.6"
  }
 },
 "nbformat": 4,
 "nbformat_minor": 5
}
